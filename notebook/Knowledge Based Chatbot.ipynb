{
 "cells": [
  {
   "cell_type": "code",
   "execution_count": null,
   "metadata": {},
   "outputs": [],
   "source": [
    "import os\n",
    "import streamlit as st\n",
    "from langchain_openai import ChatOpenAI\n",
    "from dotenv import load_dotenv\n",
    "load_dotenv()\n",
    "\n",
    "st.title(\"Chat with Multiple PDFs\")\n",
    "prompt = st.chat_input(\"Ask a question.\")\n",
    "\n",
    "def generate_response(prompt_input: str):\n",
    "    llm = ChatOpenAI(model=os.getenv(\"OPENAI_MODEL_NAME\"), temperature=0.2, streaming=True)\n",
    "    messages = [\n",
    "        (\n",
    "            \"system\",\n",
    "            \"You are a helpful assistant that generate content based on the human input.\",\n",
    "        ),\n",
    "        (\"human\", prompt_input),\n",
    "    ]\n",
    "    ai_msg = llm.invoke(messages)\n",
    "    return ai_msg\n",
    "\n",
    "# Initialize chat history\n",
    "if \"messages\" not in st.session_state:\n",
    "    st.session_state.messages = []\n",
    "\n",
    "if \"openai_model\" not in st.session_state:\n",
    "    st.session_state[\"openai_model\"] = \"gpt-3.5-turbo\"\n",
    "\n",
    "# Display chat messages from history on app rerun\n",
    "for message in st.session_state.messages:\n",
    "    with st.chat_message(message[\"role\"]):\n",
    "        st.markdown(message[\"content\"])\n",
    "\n",
    "# React to user input\n",
    "if prompt:\n",
    "    # Display user message in chat message container\n",
    "    st.chat_message(\"user\").markdown(prompt)\n",
    "    # Add user message to chat history\n",
    "    st.session_state.messages.append(\n",
    "        {\n",
    "            \"role\": \"user\",\n",
    "            \"content\": prompt\n",
    "        }\n",
    "    )\n",
    "\n",
    "    response = f\"{generate_response(prompt).content}\"\n",
    "    # Display assistant response in chat message container\n",
    "    with st.chat_message(\"assistant\"):\n",
    "        st.write(response)\n",
    "    # Add assistant response to chat history\n",
    "    st.session_state.messages.append(\n",
    "        {\"role\": \"assistant\", \"content\": response})"
   ]
  },
  {
   "cell_type": "code",
   "execution_count": null,
   "metadata": {},
   "outputs": [],
   "source": []
  }
 ],
 "metadata": {
  "kernelspec": {
   "display_name": "venv",
   "language": "python",
   "name": "python3"
  },
  "language_info": {
   "codemirror_mode": {
    "name": "ipython",
    "version": 3
   },
   "file_extension": ".py",
   "mimetype": "text/x-python",
   "name": "python",
   "nbconvert_exporter": "python",
   "pygments_lexer": "ipython3",
   "version": "3.12.3"
  }
 },
 "nbformat": 4,
 "nbformat_minor": 2
}
